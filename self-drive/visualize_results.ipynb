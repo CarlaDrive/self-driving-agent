{
 "cells": [
  {
   "cell_type": "code",
   "execution_count": 1,
   "metadata": {},
   "outputs": [],
   "source": [
    "from tensorflow.keras.models import load_model\n",
    "from image_preprocess import Preprocess"
   ]
  },
  {
   "cell_type": "code",
   "execution_count": 8,
   "metadata": {},
   "outputs": [
    {
     "name": "stdout",
     "output_type": "stream",
     "text": [
      "predicted angle = [[0.00492753]]\n"
     ]
    }
   ],
   "source": [
    "pr = Preprocess('C:\\\\Users\\\\\\Teo\\\\\\Desktop\\\\\\data_10k\\\\\\image_data\\\\')\n",
    "\n",
    "image = pr.readImg('265242.png')\n",
    "image = pr.preprocess(image)\n",
    "\n",
    "model = load_model('.\\models\\model_final.h5')\n",
    "Y_pred = model.predict(image.reshape(1, 66, 200, 3))\n",
    "\n",
    "print(f\"predicted angle = {Y_pred}\")"
   ]
  },
  {
   "cell_type": "code",
   "execution_count": null,
   "metadata": {},
   "outputs": [],
   "source": []
  }
 ],
 "metadata": {
  "kernelspec": {
   "display_name": "Python 3",
   "language": "python",
   "name": "python3"
  },
  "language_info": {
   "codemirror_mode": {
    "name": "ipython",
    "version": 3
   },
   "file_extension": ".py",
   "mimetype": "text/x-python",
   "name": "python",
   "nbconvert_exporter": "python",
   "pygments_lexer": "ipython3",
   "version": "3.7.6"
  }
 },
 "nbformat": 4,
 "nbformat_minor": 4
}
