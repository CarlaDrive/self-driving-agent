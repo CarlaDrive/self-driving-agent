{
 "cells": [
  {
   "cell_type": "code",
   "execution_count": 21,
   "metadata": {},
   "outputs": [],
   "source": [
    "from sklearn.metrics import mean_squared_error, r2_score\n",
    "from model import Model\n",
    "from image_preprocess import Preprocess\n",
    "from tensorflow.keras.models import load_model\n",
    "\n",
    "dataPath = 'path/here'\n",
    "md = Model(dataPath, 0, 0, 0, 0)\n",
    "pr = Preprocess(dataPath + 'image_data\\\\')\n",
    "model = load_model('./models/model_final.h5')"
   ]
  },
  {
   "cell_type": "code",
   "execution_count": 36,
   "metadata": {},
   "outputs": [
    {
     "output_type": "stream",
     "name": "stdout",
     "text": "r2_score: 28.2%\nmse: 0.00187\n"
    }
   ],
   "source": [
    "_, X_valid, _, y_valid = md.splitData()\n",
    "X_test_true, y_test_true = next(pr.image_data_generator(X_valid, y_valid, 100, False))\n",
    "\n",
    "y_pred = model.predict(X_test_true)\n",
    "mse = mean_squared_error(y_test_true, y_pred)\n",
    "r2 = r2_score(y_test_true, y_pred)\n",
    "\n",
    "print('r2_score: ' + \"{:.1%}\".format(r2))\n",
    "print('mse: ' + \"{:.5f}\".format(mse))"
   ]
  },
  {
   "cell_type": "code",
   "execution_count": null,
   "metadata": {},
   "outputs": [],
   "source": []
  }
 ],
 "metadata": {
  "kernelspec": {
   "display_name": "Python 3",
   "language": "python",
   "name": "python3"
  },
  "language_info": {
   "codemirror_mode": {
    "name": "ipython",
    "version": 3
   },
   "file_extension": ".py",
   "mimetype": "text/x-python",
   "name": "python",
   "nbconvert_exporter": "python",
   "pygments_lexer": "ipython3",
   "version": "3.7.6-final"
  }
 },
 "nbformat": 4,
 "nbformat_minor": 4
}